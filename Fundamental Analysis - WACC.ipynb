{
 "cells": [
  {
   "cell_type": "markdown",
   "metadata": {},
   "source": [
    "# Calculating WACC - Weighted Average Cost of Capital"
   ]
  },
  {
   "cell_type": "markdown",
   "metadata": {},
   "source": [
    "The WACC is a firm cost of capital. Is the capital rate that a firm is expected to pay on average to all its security holders. WACC uses cost of debt, cost of equity, capital structure of a firm and tax rate. A company capital structure is important to compute WACC since it uses the blended cost of capital across all sources of capital (i.e. cost of debt and cost of equity)."
   ]
  },
  {
   "cell_type": "markdown",
   "metadata": {},
   "source": [
    "WACC is commonly used as a discount rate to calculate the net present value of a company. For example, when valuing a company using the Discounted Cash Flow model, we should use WACC to discount future free cash flows."
   ]
  },
  {
   "cell_type": "markdown",
   "metadata": {},
   "source": [
    "WACC is calculated using the below formula:\n",
    "\n",
    "WACC = Kd * (1 -Tc) * (D /D+E) + Ke * (E /D+E)\n",
    "\n",
    "Where:\n",
    "\n",
    "WACC = Weighted Average Cost of Capital\n",
    "\n",
    "Kd = Cost of debt\n",
    "\n",
    "Tc = Tax effective rate\n",
    "\n",
    "Ke = Cost of equity\n",
    "\n",
    "D / D + E = Proportion of debt in firm capital structure"
   ]
  },
  {
   "cell_type": "code",
   "execution_count": 1,
   "metadata": {},
   "outputs": [],
   "source": [
    "#!pip install pandas_datareader\n",
    "import pandas_datareader.data as web\n",
    "import datetime\n",
    "import requests\n",
    "import numpy as np"
   ]
  },
  {
   "cell_type": "code",
   "execution_count": 2,
   "metadata": {},
   "outputs": [],
   "source": [
    "# Cost of Debt\n",
    "# the approach to calculate cost of debt is, we are going to calculate credit spread and then we will add the risk free rate\n",
    "# Therefore, Kd = RF + credit spread\n",
    "# for each of the element in thw formula for WACC, we will create a function"
   ]
  },
  {
   "cell_type": "code",
   "execution_count": 3,
   "metadata": {},
   "outputs": [],
   "source": [
    "# Define the company you want to analyse in the company parameter and input the free api from \n",
    "# www.financialmodelingprep.com\n",
    "\n",
    "company = 'GOOG'\n",
    "demo = '354f5f0ad406efc5d56acbb8a6b08f1f'"
   ]
  },
  {
   "cell_type": "markdown",
   "metadata": {},
   "source": [
    "Interest coverage ratio:\n",
    "\n",
    "The interest coverage ratio is a debt and profitability ratio used to determine how easily a company can pay interest on its outstanding debt. The interest coverage ratio is calculated by dividing a company's earnings before interest and taxes (EBIT) by its interest expense during a given period.\n",
    "\n",
    "The formula used is:\n",
    "\n",
    "\\begin{aligned} &\\text{Interest Coverage Ratio}=\\frac{\\text{EBIT}}{\\text{Interest Expense}}\\\\ &\\textbf{where:}\\\\ &\\text{EBIT}=\\text{Earnings before interest and taxes} \\end{aligned} \n"
   ]
  },
  {
   "cell_type": "code",
   "execution_count": 4,
   "metadata": {},
   "outputs": [
    {
     "name": "stdout",
     "output_type": "stream",
     "text": [
      "Risk Free Rate of GOOG = 0.0017000000000000001 \n",
      "Interest Coverage Ratio = 357.162962962963\n"
     ]
    }
   ],
   "source": [
    "def interest_coverage_and_RF(company):\n",
    "    # Defining the time frame: from today to a year before\n",
    "    end= datetime.datetime.today()\n",
    "    start = (end - datetime.timedelta(366)).strftime('%Y-%m-%d')\n",
    "    end= datetime.datetime.today().strftime('%Y-%m-%d')\n",
    "    \n",
    "    IS= requests.get(f'https://financialmodelingprep.com/api/v3/income-statement/{company}?apikey={demo}').json()\n",
    "    EBIT= IS[0]['ebitda'] - IS[0]['depreciationAndAmortization'] \n",
    "    interest_expense = IS[0]['interestExpense']\n",
    "    interest_coverage_ratio = EBIT / interest_expense\n",
    "    \n",
    "    # To extract risk free rate RF:\n",
    "    Treasury = web.DataReader(['TB1YR'], 'fred', start, end)\n",
    "    RF = float(Treasury.iloc[-1])\n",
    "    RF = RF/100\n",
    "    print('Risk Free Rate of',company,'=', RF,'\\nInterest Coverage Ratio =', interest_coverage_ratio)\n",
    "    return [RF, interest_coverage_ratio]\n",
    "\n",
    "interest = interest_coverage_and_RF(company)\n",
    "RF = interest[0]\n",
    "interest_coverage_ratio = interest[1]"
   ]
  },
  {
   "cell_type": "code",
   "execution_count": 5,
   "metadata": {},
   "outputs": [
    {
     "name": "stdout",
     "output_type": "stream",
     "text": [
      "0.008\n"
     ]
    }
   ],
   "source": [
    "# COst of Debt:\n",
    "\n",
    "def cost_of_debt(company, RF,interest_coverage_ratio):\n",
    "    if interest_coverage_ratio > 8.5:\n",
    "    #Rating is AAA\n",
    "        credit_spread = 0.0063\n",
    "    if (interest_coverage_ratio > 6.5) & (interest_coverage_ratio <= 8.5):\n",
    "    #Rating is AA\n",
    "        credit_spread = 0.0078\n",
    "    if (interest_coverage_ratio > 5.5) & (interest_coverage_ratio <=  6.5):\n",
    "    #Rating is A+\n",
    "        credit_spread = 0.0098\n",
    "    if (interest_coverage_ratio > 4.25) & (interest_coverage_ratio <=  5.49):\n",
    "    #Rating is A\n",
    "        credit_spread = 0.0108\n",
    "    if (interest_coverage_ratio > 3) & (interest_coverage_ratio <=  4.25):\n",
    "    #Rating is A-\n",
    "        credit_spread = 0.0122\n",
    "    if (interest_coverage_ratio > 2.5) & (interest_coverage_ratio <=  3):\n",
    "    #Rating is BBB\n",
    "        credit_spread = 0.0156\n",
    "    if (interest_coverage_ratio > 2.25) & (interest_coverage_ratio <=  2.5):\n",
    "    #Rating is BB+\n",
    "        credit_spread = 0.02\n",
    "    if (interest_coverage_ratio > 2) & (interest_coverage_ratio <=  2.25):\n",
    "    #Rating is BB\n",
    "        credit_spread = 0.0240\n",
    "    if (interest_coverage_ratio > 1.75) & (interest_coverage_ratio <=  2):\n",
    "    #Rating is B+\n",
    "        credit_spread = 0.0351\n",
    "    if (interest_coverage_ratio > 1.5) & (interest_coverage_ratio <=  1.75):\n",
    "    #Rating is B\n",
    "        credit_spread = 0.0421\n",
    "    if (interest_coverage_ratio > 1.25) & (interest_coverage_ratio <=  1.5):\n",
    "    #Rating is B-\n",
    "        credit_spread = 0.0515\n",
    "    if (interest_coverage_ratio > 0.8) & (interest_coverage_ratio <=  1.25):\n",
    "    #Rating is CCC\n",
    "        credit_spread = 0.0820\n",
    "    if (interest_coverage_ratio > 0.65) & (interest_coverage_ratio <=  0.8):\n",
    "    #Rating is CC\n",
    "        credit_spread = 0.0864\n",
    "    if (interest_coverage_ratio > 0.2) & (interest_coverage_ratio <=  0.65):\n",
    "    #Rating is C\n",
    "        credit_spread = 0.1134\n",
    "    if interest_coverage_ratio <=  0.2:\n",
    "    #Rating is D\n",
    "        credit_spread = 0.1512\n",
    "  \n",
    "    cost_of_debt = RF + credit_spread\n",
    "    print(cost_of_debt)\n",
    "    return cost_of_debt\n",
    "\n",
    "kd = cost_of_debt(company,RF,interest_coverage_ratio)"
   ]
  },
  {
   "cell_type": "code",
   "execution_count": 6,
   "metadata": {},
   "outputs": [
    {
     "data": {
      "text/plain": [
       "0.28425766269738567"
      ]
     },
     "execution_count": 6,
     "metadata": {},
     "output_type": "execute_result"
    }
   ],
   "source": [
    "# cost of equity:\n",
    "\n",
    "def costofequity(company):\n",
    "    \n",
    "    # Defining the time frame: from today to a year before\n",
    "    end= datetime.datetime.today()\n",
    "    start = (end - datetime.timedelta(366)).strftime('%Y-%m-%d')\n",
    "    end= datetime.datetime.today().strftime('%Y-%m-%d')    \n",
    "    \n",
    "    #RF\n",
    "    Treasury = web.DataReader(['TB1YR'], 'fred', start, end)\n",
    "    RF = float(Treasury.iloc[-1])\n",
    "    RF = RF/100\n",
    "\n",
    "    #Beta\n",
    "    beta = requests.get(f'https://financialmodelingprep.com/api/v3/company/profile/{company}?apikey={demo}')\n",
    "    beta = beta.json()\n",
    "    beta = float(beta['profile']['beta'])\n",
    "\n",
    "    #Market Return\n",
    "    SP500 = web.DataReader(['sp500'], 'fred', start, end)\n",
    "      #Drop all Not a number values using drop method.\n",
    "    SP500.dropna(inplace = True)\n",
    "\n",
    "    SP500yearlyreturn = (SP500['sp500'].iloc[-1]/ SP500['sp500'].iloc[-252])-1\n",
    "    \n",
    "    cost_of_equity = RF+(beta*(SP500yearlyreturn - RF))\n",
    "    return cost_of_equity\n",
    "ke = costofequity(company)\n",
    "ke"
   ]
  },
  {
   "cell_type": "code",
   "execution_count": 7,
   "metadata": {},
   "outputs": [
    {
     "name": "stdout",
     "output_type": "stream",
     "text": [
      "WACC: 0.25445302802469105 \n",
      "Proportion of equity in firm capital structure: 0.8926182034045147 \n",
      "Proportion of debt in firm capital structure: 0.10738179659548525\n",
      "Wacc of GOOG is 25.445302802469104%\n"
     ]
    }
   ],
   "source": [
    "# To calculate WACC\n",
    "\n",
    "def wacc(company):\n",
    "    \n",
    "    #Calculate effective tax rate\n",
    "    # retreving the Financial ratios from the financial modeling prep api\n",
    "    FR = requests.get(f'https://financialmodelingprep.com/api/v3/ratios/{company}?apikey={demo}').json()\n",
    "    ETR = FR[0]['effectiveTaxRate']  # index [0] represents the latest year effeective tax rate of the company\n",
    "\n",
    "    #capital structure \n",
    "    # Get request of the balance sheet\n",
    "    BS = requests.get(f'https://financialmodelingprep.com/api/v3/balance-sheet-statement/{company}?apikey={demo}').json()\n",
    "   \n",
    "    # Debt is calculated by dividing the total debt of company by total debt + total stockholders equity \n",
    "    Debt_to = BS[0]['totalDebt'] / (BS[0]['totalDebt'] + BS[0]['totalStockholdersEquity'])\n",
    "    \n",
    "    # equity is calculated by dividing the total stockholders equity of company by total debt + total stockholders equity \n",
    "    equity_to = BS[0]['totalStockholdersEquity'] / (BS[0]['totalDebt'] + BS[0]['totalStockholdersEquity'])\n",
    "\n",
    "    #wacc is finally calculated by applying the formula shown earlier\n",
    "    WACC = (kd*(1-ETR)*Debt_to) + (ke*equity_to)\n",
    "    print('WACC:',WACC,'\\nProportion of equity in firm capital structure:',equity_to,'\\nProportion of debt in firm capital structure:',Debt_to)\n",
    "    return WACC\n",
    "wacc_company = wacc(company)\n",
    "print('Wacc of ' + company + ' is ' + str((wacc_company*100))+'%')   "
   ]
  },
  {
   "cell_type": "code",
   "execution_count": null,
   "metadata": {},
   "outputs": [],
   "source": []
  }
 ],
 "metadata": {
  "kernelspec": {
   "display_name": "Python 3",
   "language": "python",
   "name": "python3"
  },
  "language_info": {
   "codemirror_mode": {
    "name": "ipython",
    "version": 3
   },
   "file_extension": ".py",
   "mimetype": "text/x-python",
   "name": "python",
   "nbconvert_exporter": "python",
   "pygments_lexer": "ipython3",
   "version": "3.8.3"
  }
 },
 "nbformat": 4,
 "nbformat_minor": 4
}
